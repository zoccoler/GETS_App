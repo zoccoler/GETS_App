{
 "cells": [
  {
   "cell_type": "code",
   "execution_count": 1,
   "metadata": {},
   "outputs": [
    {
     "name": "stderr",
     "output_type": "stream",
     "text": [
      "[NbConvertApp] Converting notebook Interface_temporal_GETS_New.ipynb to python\n",
      "[NbConvertApp] Writing 19626 bytes to Interface_temporal_GETS_New.py\n"
     ]
    }
   ],
   "source": [
    "import sys,os\n",
    "path = os.path.abspath('')\n",
    "items = os.listdir(path)\n",
    "# if 'Interface_temporal_GETS.py' not in items:\n",
    "! jupyter nbconvert --to 'python' Interface_temporal_GETS.ipynb"
   ]
  },
  {
   "cell_type": "code",
   "execution_count": null,
   "metadata": {},
   "outputs": [],
   "source": []
  }
 ],
 "metadata": {
  "kernelspec": {
   "display_name": "Python 3",
   "language": "python",
   "name": "python3"
  },
  "language_info": {
   "codemirror_mode": {
    "name": "ipython",
    "version": 3
   },
   "file_extension": ".py",
   "mimetype": "text/x-python",
   "name": "python",
   "nbconvert_exporter": "python",
   "pygments_lexer": "ipython3",
   "version": "3.8.5"
  }
 },
 "nbformat": 4,
 "nbformat_minor": 4
}
